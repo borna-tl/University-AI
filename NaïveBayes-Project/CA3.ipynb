{
 "cells": [
  {
   "cell_type": "markdown",
   "id": "beb251e7",
   "metadata": {},
   "source": [
    "<h1>$\\color{Blue}{Borna \\hspace{0.2cm} Tavassoli}$</h1>\n",
    "<h3>$\\color{Blue}{CA3 - 810198374}$</h3>"
   ]
  },
  {
   "cell_type": "markdown",
   "id": "0987143e",
   "metadata": {},
   "source": [
    "<h3>$\\color{red}{Section \\hspace{0.2cm} One:}$</h3>"
   ]
  },
  {
   "cell_type": "code",
   "execution_count": 1,
   "id": "118321aa",
   "metadata": {},
   "outputs": [],
   "source": [
    "from __future__ import unicode_literals\n",
    "from hazm import *\n",
    "import pandas as pd"
   ]
  },
  {
   "cell_type": "code",
   "execution_count": 2,
   "id": "ff768b61",
   "metadata": {},
   "outputs": [],
   "source": [
    "data_test = pd.read_csv(\"./Data/divar_test.csv\")\n",
    "data_train = pd.read_csv(\"./Data/divar_train.csv\")"
   ]
  },
  {
   "cell_type": "code",
   "execution_count": 3,
   "id": "06d81fc8",
   "metadata": {},
   "outputs": [
    {
     "data": {
      "text/html": [
       "<div>\n",
       "<style scoped>\n",
       "    .dataframe tbody tr th:only-of-type {\n",
       "        vertical-align: middle;\n",
       "    }\n",
       "\n",
       "    .dataframe tbody tr th {\n",
       "        vertical-align: top;\n",
       "    }\n",
       "\n",
       "    .dataframe thead th {\n",
       "        text-align: right;\n",
       "    }\n",
       "</style>\n",
       "<table border=\"1\" class=\"dataframe\">\n",
       "  <thead>\n",
       "    <tr style=\"text-align: right;\">\n",
       "      <th></th>\n",
       "      <th>title</th>\n",
       "      <th>description</th>\n",
       "      <th>categories</th>\n",
       "    </tr>\n",
       "  </thead>\n",
       "  <tbody>\n",
       "    <tr>\n",
       "      <th>0</th>\n",
       "      <td>بلبل خرمایی</td>\n",
       "      <td>سه عدد بلبل خرمایی سه ماهه.از وقتی جوجه بودن خ...</td>\n",
       "      <td>leisure-hobbies</td>\n",
       "    </tr>\n",
       "    <tr>\n",
       "      <th>1</th>\n",
       "      <td>عینک اسکی در حد</td>\n",
       "      <td>عینک اسکی دبل لنز مارک يو وكس  در حد نو اصلی م...</td>\n",
       "      <td>leisure-hobbies</td>\n",
       "    </tr>\n",
       "    <tr>\n",
       "      <th>2</th>\n",
       "      <td>تکیه سر تویوتا پرادو</td>\n",
       "      <td>پارچه ای سالم و تمیز.</td>\n",
       "      <td>vehicles</td>\n",
       "    </tr>\n",
       "    <tr>\n",
       "      <th>3</th>\n",
       "      <td>مجسمه کریستال24%</td>\n",
       "      <td>مجسمه دکوری کریستال بالرین Rcr24%</td>\n",
       "      <td>for-the-home</td>\n",
       "    </tr>\n",
       "    <tr>\n",
       "      <th>4</th>\n",
       "      <td>کیف و ساک</td>\n",
       "      <td>هر 2 کاملا تمیز هستند</td>\n",
       "      <td>personal</td>\n",
       "    </tr>\n",
       "    <tr>\n",
       "      <th>...</th>\n",
       "      <td>...</td>\n",
       "      <td>...</td>\n",
       "      <td>...</td>\n",
       "    </tr>\n",
       "    <tr>\n",
       "      <th>10195</th>\n",
       "      <td>ان هاش 85</td>\n",
       "      <td>نیمه دوم همه چی به شرط در حد خشک 260تا کار</td>\n",
       "      <td>vehicles</td>\n",
       "    </tr>\n",
       "    <tr>\n",
       "      <th>10196</th>\n",
       "      <td>405 دوگانه کارخانه. تمیز</td>\n",
       "      <td>فابریک 4 حلقه لاستیک 205 نو بیمه یکسال تخفیف ب...</td>\n",
       "      <td>vehicles</td>\n",
       "    </tr>\n",
       "    <tr>\n",
       "      <th>10197</th>\n",
       "      <td>بخاری گازی دودکش دار پلار</td>\n",
       "      <td>بخاری نو و بسیار تمیز هستش\\nبا مشتری واقعی کنا...</td>\n",
       "      <td>for-the-home</td>\n",
       "    </tr>\n",
       "    <tr>\n",
       "      <th>10198</th>\n",
       "      <td>نر کله برنجی چتری</td>\n",
       "      <td>سلام به دلیل کمبود جا واسباب کشی به کمترین قیم...</td>\n",
       "      <td>leisure-hobbies</td>\n",
       "    </tr>\n",
       "    <tr>\n",
       "      <th>10199</th>\n",
       "      <td>پراید111سفید</td>\n",
       "      <td>پراید111se\\nسفید.مدل93.درب جلو سمت شاگرد استوک...</td>\n",
       "      <td>vehicles</td>\n",
       "    </tr>\n",
       "  </tbody>\n",
       "</table>\n",
       "<p>10200 rows × 3 columns</p>\n",
       "</div>"
      ],
      "text/plain": [
       "                           title  \\\n",
       "0                    بلبل خرمایی   \n",
       "1                عینک اسکی در حد   \n",
       "2           تکیه سر تویوتا پرادو   \n",
       "3               مجسمه کریستال24%   \n",
       "4                      کیف و ساک   \n",
       "...                          ...   \n",
       "10195                  ان هاش 85   \n",
       "10196   405 دوگانه کارخانه. تمیز   \n",
       "10197  بخاری گازی دودکش دار پلار   \n",
       "10198          نر کله برنجی چتری   \n",
       "10199               پراید111سفید   \n",
       "\n",
       "                                             description       categories  \n",
       "0      سه عدد بلبل خرمایی سه ماهه.از وقتی جوجه بودن خ...  leisure-hobbies  \n",
       "1      عینک اسکی دبل لنز مارک يو وكس  در حد نو اصلی م...  leisure-hobbies  \n",
       "2                                  پارچه ای سالم و تمیز.         vehicles  \n",
       "3                      مجسمه دکوری کریستال بالرین Rcr24%     for-the-home  \n",
       "4                                  هر 2 کاملا تمیز هستند         personal  \n",
       "...                                                  ...              ...  \n",
       "10195         نیمه دوم همه چی به شرط در حد خشک 260تا کار         vehicles  \n",
       "10196  فابریک 4 حلقه لاستیک 205 نو بیمه یکسال تخفیف ب...         vehicles  \n",
       "10197  بخاری نو و بسیار تمیز هستش\\nبا مشتری واقعی کنا...     for-the-home  \n",
       "10198  سلام به دلیل کمبود جا واسباب کشی به کمترین قیم...  leisure-hobbies  \n",
       "10199  پراید111se\\nسفید.مدل93.درب جلو سمت شاگرد استوک...         vehicles  \n",
       "\n",
       "[10200 rows x 3 columns]"
      ]
     },
     "execution_count": 3,
     "metadata": {},
     "output_type": "execute_result"
    }
   ],
   "source": [
    "data_train"
   ]
  },
  {
   "cell_type": "code",
   "execution_count": 4,
   "id": "cf35c9c5",
   "metadata": {},
   "outputs": [
    {
     "data": {
      "text/html": [
       "<div>\n",
       "<style scoped>\n",
       "    .dataframe tbody tr th:only-of-type {\n",
       "        vertical-align: middle;\n",
       "    }\n",
       "\n",
       "    .dataframe tbody tr th {\n",
       "        vertical-align: top;\n",
       "    }\n",
       "\n",
       "    .dataframe thead th {\n",
       "        text-align: right;\n",
       "    }\n",
       "</style>\n",
       "<table border=\"1\" class=\"dataframe\">\n",
       "  <thead>\n",
       "    <tr style=\"text-align: right;\">\n",
       "      <th></th>\n",
       "      <th>title</th>\n",
       "      <th>description</th>\n",
       "      <th>categories</th>\n",
       "    </tr>\n",
       "  </thead>\n",
       "  <tbody>\n",
       "    <tr>\n",
       "      <th>0</th>\n",
       "      <td>کیف مجلسی نو</td>\n",
       "      <td>کیف مجلسی نوی نو</td>\n",
       "      <td>personal</td>\n",
       "    </tr>\n",
       "    <tr>\n",
       "      <th>1</th>\n",
       "      <td>دیوار کوب نمدی تزیینی</td>\n",
       "      <td>مناسب برای جهاز عروس</td>\n",
       "      <td>for-the-home</td>\n",
       "    </tr>\n",
       "    <tr>\n",
       "      <th>2</th>\n",
       "      <td>دو تیکه بسیار بسیار تمیز و سالم</td>\n",
       "      <td>با کشوی مخفی و شیک</td>\n",
       "      <td>for-the-home</td>\n",
       "    </tr>\n",
       "    <tr>\n",
       "      <th>3</th>\n",
       "      <td>مودم</td>\n",
       "      <td>سلام مودم سالم با وسایلش،دیگه ب کارم نمیاد \\nم...</td>\n",
       "      <td>electronic-devices</td>\n",
       "    </tr>\n",
       "    <tr>\n",
       "      <th>4</th>\n",
       "      <td>تعداد18عددبوقلمون به قیمت عمده</td>\n",
       "      <td>سلام تعدای بوقلمون دارم به علت جابه جایی به فر...</td>\n",
       "      <td>leisure-hobbies</td>\n",
       "    </tr>\n",
       "    <tr>\n",
       "      <th>...</th>\n",
       "      <td>...</td>\n",
       "      <td>...</td>\n",
       "      <td>...</td>\n",
       "    </tr>\n",
       "    <tr>\n",
       "      <th>1795</th>\n",
       "      <td>باسکول 300کیلویی</td>\n",
       "      <td>سالمه سالمه بشرط\\nقیمت نوش داخل بازار600تومنه</td>\n",
       "      <td>businesses</td>\n",
       "    </tr>\n",
       "    <tr>\n",
       "      <th>1796</th>\n",
       "      <td>میز مدیریتی با کنفرانس</td>\n",
       "      <td>میز مدیریتی با کنفرانس \\nتمیز سالم بدون خط و خش</td>\n",
       "      <td>businesses</td>\n",
       "    </tr>\n",
       "    <tr>\n",
       "      <th>1797</th>\n",
       "      <td>باند aiwa</td>\n",
       "      <td>سالم،با اسپیکر</td>\n",
       "      <td>electronic-devices</td>\n",
       "    </tr>\n",
       "    <tr>\n",
       "      <th>1798</th>\n",
       "      <td>عروس هلندی مولد</td>\n",
       "      <td>پنج تا عروس هلندی،  دو جفت ویک تک،یه جفتش دم ت...</td>\n",
       "      <td>leisure-hobbies</td>\n",
       "    </tr>\n",
       "    <tr>\n",
       "      <th>1799</th>\n",
       "      <td>ست دستباف دخترانه یکساله نو</td>\n",
       "      <td>ست دخترانه تا یکسال و نیم هم میشه ،کاردست و نو...</td>\n",
       "      <td>personal</td>\n",
       "    </tr>\n",
       "  </tbody>\n",
       "</table>\n",
       "<p>1800 rows × 3 columns</p>\n",
       "</div>"
      ],
      "text/plain": [
       "                                title  \\\n",
       "0                        کیف مجلسی نو   \n",
       "1               دیوار کوب نمدی تزیینی   \n",
       "2     دو تیکه بسیار بسیار تمیز و سالم   \n",
       "3                                مودم   \n",
       "4      تعداد18عددبوقلمون به قیمت عمده   \n",
       "...                               ...   \n",
       "1795                 باسکول 300کیلویی   \n",
       "1796           میز مدیریتی با کنفرانس   \n",
       "1797                        باند aiwa   \n",
       "1798                  عروس هلندی مولد   \n",
       "1799      ست دستباف دخترانه یکساله نو   \n",
       "\n",
       "                                            description          categories  \n",
       "0                                      کیف مجلسی نوی نو            personal  \n",
       "1                                  مناسب برای جهاز عروس        for-the-home  \n",
       "2                                    با کشوی مخفی و شیک        for-the-home  \n",
       "3     سلام مودم سالم با وسایلش،دیگه ب کارم نمیاد \\nم...  electronic-devices  \n",
       "4     سلام تعدای بوقلمون دارم به علت جابه جایی به فر...     leisure-hobbies  \n",
       "...                                                 ...                 ...  \n",
       "1795      سالمه سالمه بشرط\\nقیمت نوش داخل بازار600تومنه          businesses  \n",
       "1796    میز مدیریتی با کنفرانس \\nتمیز سالم بدون خط و خش          businesses  \n",
       "1797                                     سالم،با اسپیکر  electronic-devices  \n",
       "1798  پنج تا عروس هلندی،  دو جفت ویک تک،یه جفتش دم ت...     leisure-hobbies  \n",
       "1799  ست دخترانه تا یکسال و نیم هم میشه ،کاردست و نو...            personal  \n",
       "\n",
       "[1800 rows x 3 columns]"
      ]
     },
     "execution_count": 4,
     "metadata": {},
     "output_type": "execute_result"
    }
   ],
   "source": [
    "data_test"
   ]
  },
  {
   "cell_type": "code",
   "execution_count": 5,
   "id": "87a57297",
   "metadata": {},
   "outputs": [
    {
     "data": {
      "text/plain": [
       "['آخر', 'آخرها', 'آخه', 'آدمهاست', 'آرام']"
      ]
     },
     "execution_count": 5,
     "metadata": {},
     "output_type": "execute_result"
    }
   ],
   "source": [
    "#stop_words = {'از', 'به', 'با', 'بی', 'در', 'بر', 'برای', 'تا', 'مگر', 'جز', 'چون', 'اندر', 'را', 'که', 'اما', 'اگر', 'اگه', 'و', 'هر', '.', '!', 'چه', 'یا', 'ی', '،', ':', '؛'}\n",
    "import codecs\n",
    "\n",
    "stop_words = codecs.open('persian', encoding='utf-8').read().split('\\n')\n",
    "stop_words = [x.strip() for x in stop_words]\n",
    "stop_words[20:25]"
   ]
  },
  {
   "cell_type": "code",
   "execution_count": 6,
   "id": "0039a231",
   "metadata": {},
   "outputs": [],
   "source": [
    "normalizer = Normalizer()\n",
    "row_no = data_train.shape[0]\n",
    "col_no = data_train.shape[1]\n",
    "for i in range(0, row_no):\n",
    "    for j in range(0, col_no - 1):\n",
    "        data_train.iat[i, j] = normalizer.normalize(data_train.iloc[i][j])\n",
    "        word_tokens = word_tokenize(data_train.iloc[i][j])\n",
    "        filtered_sentence = []\n",
    "        for w in word_tokens:\n",
    "            if w not in stop_words:\n",
    "                filtered_sentence.append(w)\n",
    "        data_train.iat[i, j] = filtered_sentence"
   ]
  },
  {
   "cell_type": "code",
   "execution_count": 7,
   "id": "d4ac552c",
   "metadata": {},
   "outputs": [
    {
     "data": {
      "text/html": [
       "<div>\n",
       "<style scoped>\n",
       "    .dataframe tbody tr th:only-of-type {\n",
       "        vertical-align: middle;\n",
       "    }\n",
       "\n",
       "    .dataframe tbody tr th {\n",
       "        vertical-align: top;\n",
       "    }\n",
       "\n",
       "    .dataframe thead th {\n",
       "        text-align: right;\n",
       "    }\n",
       "</style>\n",
       "<table border=\"1\" class=\"dataframe\">\n",
       "  <thead>\n",
       "    <tr style=\"text-align: right;\">\n",
       "      <th></th>\n",
       "      <th>title</th>\n",
       "      <th>description</th>\n",
       "      <th>categories</th>\n",
       "    </tr>\n",
       "  </thead>\n",
       "  <tbody>\n",
       "    <tr>\n",
       "      <th>0</th>\n",
       "      <td>[بلبل, خرمایی]</td>\n",
       "      <td>[سه, عدد, بلبل, خرمایی, سه, ماهه, جوجه, بزرگشو...</td>\n",
       "      <td>leisure-hobbies</td>\n",
       "    </tr>\n",
       "    <tr>\n",
       "      <th>1</th>\n",
       "      <td>[عینک, اسکی, حد]</td>\n",
       "      <td>[عینک, اسکی, دبل, لنز, مارک, یو, وکس, حد, نو, ...</td>\n",
       "      <td>leisure-hobbies</td>\n",
       "    </tr>\n",
       "    <tr>\n",
       "      <th>2</th>\n",
       "      <td>[تکیه, تویوتا, پرادو]</td>\n",
       "      <td>[پارچه‌ای, سالم, تمیز]</td>\n",
       "      <td>vehicles</td>\n",
       "    </tr>\n",
       "    <tr>\n",
       "      <th>3</th>\n",
       "      <td>[مجسمه, کریستال, ۲۴]</td>\n",
       "      <td>[مجسمه, دکوری, کریستال, بالرین, Rcr, ۲۴]</td>\n",
       "      <td>for-the-home</td>\n",
       "    </tr>\n",
       "    <tr>\n",
       "      <th>4</th>\n",
       "      <td>[کیف, ساک]</td>\n",
       "      <td>[تمیز]</td>\n",
       "      <td>personal</td>\n",
       "    </tr>\n",
       "    <tr>\n",
       "      <th>...</th>\n",
       "      <td>...</td>\n",
       "      <td>...</td>\n",
       "      <td>...</td>\n",
       "    </tr>\n",
       "    <tr>\n",
       "      <th>10195</th>\n",
       "      <td>[هاش, ۸۵]</td>\n",
       "      <td>[نیمه, شرط, حد, خشک, ۲۶۰, کار]</td>\n",
       "      <td>vehicles</td>\n",
       "    </tr>\n",
       "    <tr>\n",
       "      <th>10196</th>\n",
       "      <td>[۴۰۵, دوگانه, کارخانه, تمیز]</td>\n",
       "      <td>[فابریک, حلقه, لاستیک, ۲۰۵, نو, بیمه, تخفیف, ب...</td>\n",
       "      <td>vehicles</td>\n",
       "    </tr>\n",
       "    <tr>\n",
       "      <th>10197</th>\n",
       "      <td>[بخاری, گازی, دودکش, پلار]</td>\n",
       "      <td>[بخاری, نو, تمیز, مشتری, میام]</td>\n",
       "      <td>for-the-home</td>\n",
       "    </tr>\n",
       "    <tr>\n",
       "      <th>10198</th>\n",
       "      <td>[نر, کله, برنجی, چتری]</td>\n",
       "      <td>[سلام, دلیل, کمبود, واسباب, کشی, کمترین, قیمت,...</td>\n",
       "      <td>leisure-hobbies</td>\n",
       "    </tr>\n",
       "    <tr>\n",
       "      <th>10199</th>\n",
       "      <td>[پراید, ۱۱۱, سفید]</td>\n",
       "      <td>[پراید, ۱۱۱, se, سفید, مدل, ۹۳., درب, سمت, شاگ...</td>\n",
       "      <td>vehicles</td>\n",
       "    </tr>\n",
       "  </tbody>\n",
       "</table>\n",
       "<p>10200 rows × 3 columns</p>\n",
       "</div>"
      ],
      "text/plain": [
       "                              title  \\\n",
       "0                    [بلبل, خرمایی]   \n",
       "1                  [عینک, اسکی, حد]   \n",
       "2             [تکیه, تویوتا, پرادو]   \n",
       "3              [مجسمه, کریستال, ۲۴]   \n",
       "4                        [کیف, ساک]   \n",
       "...                             ...   \n",
       "10195                     [هاش, ۸۵]   \n",
       "10196  [۴۰۵, دوگانه, کارخانه, تمیز]   \n",
       "10197    [بخاری, گازی, دودکش, پلار]   \n",
       "10198        [نر, کله, برنجی, چتری]   \n",
       "10199            [پراید, ۱۱۱, سفید]   \n",
       "\n",
       "                                             description       categories  \n",
       "0      [سه, عدد, بلبل, خرمایی, سه, ماهه, جوجه, بزرگشو...  leisure-hobbies  \n",
       "1      [عینک, اسکی, دبل, لنز, مارک, یو, وکس, حد, نو, ...  leisure-hobbies  \n",
       "2                                 [پارچه‌ای, سالم, تمیز]         vehicles  \n",
       "3               [مجسمه, دکوری, کریستال, بالرین, Rcr, ۲۴]     for-the-home  \n",
       "4                                                 [تمیز]         personal  \n",
       "...                                                  ...              ...  \n",
       "10195                     [نیمه, شرط, حد, خشک, ۲۶۰, کار]         vehicles  \n",
       "10196  [فابریک, حلقه, لاستیک, ۲۰۵, نو, بیمه, تخفیف, ب...         vehicles  \n",
       "10197                     [بخاری, نو, تمیز, مشتری, میام]     for-the-home  \n",
       "10198  [سلام, دلیل, کمبود, واسباب, کشی, کمترین, قیمت,...  leisure-hobbies  \n",
       "10199  [پراید, ۱۱۱, se, سفید, مدل, ۹۳., درب, سمت, شاگ...         vehicles  \n",
       "\n",
       "[10200 rows x 3 columns]"
      ]
     },
     "execution_count": 7,
     "metadata": {},
     "output_type": "execute_result"
    }
   ],
   "source": [
    "data_train"
   ]
  },
  {
   "cell_type": "code",
   "execution_count": 8,
   "id": "ef174d0e",
   "metadata": {},
   "outputs": [],
   "source": [
    "row_no_t = data_test.shape[0]\n",
    "col_no_t = data_test.shape[1]\n",
    "for i in range(0, row_no_t):\n",
    "    for j in range(0, col_no_t - 1):\n",
    "        word_tokens_t = word_tokenize(data_test.iloc[i][j])\n",
    "        filtered_sentence_t = []\n",
    "        for w in word_tokens_t:\n",
    "            if w not in stop_words:\n",
    "                filtered_sentence_t.append(w)\n",
    "        data_test.iat[i, j] = filtered_sentence_t"
   ]
  },
  {
   "cell_type": "code",
   "execution_count": 9,
   "id": "bf1417b6",
   "metadata": {},
   "outputs": [
    {
     "data": {
      "text/html": [
       "<div>\n",
       "<style scoped>\n",
       "    .dataframe tbody tr th:only-of-type {\n",
       "        vertical-align: middle;\n",
       "    }\n",
       "\n",
       "    .dataframe tbody tr th {\n",
       "        vertical-align: top;\n",
       "    }\n",
       "\n",
       "    .dataframe thead th {\n",
       "        text-align: right;\n",
       "    }\n",
       "</style>\n",
       "<table border=\"1\" class=\"dataframe\">\n",
       "  <thead>\n",
       "    <tr style=\"text-align: right;\">\n",
       "      <th></th>\n",
       "      <th>title</th>\n",
       "      <th>description</th>\n",
       "      <th>categories</th>\n",
       "    </tr>\n",
       "  </thead>\n",
       "  <tbody>\n",
       "    <tr>\n",
       "      <th>0</th>\n",
       "      <td>[کیف, مجلسی, نو]</td>\n",
       "      <td>[کیف, مجلسی, نوی, نو]</td>\n",
       "      <td>personal</td>\n",
       "    </tr>\n",
       "    <tr>\n",
       "      <th>1</th>\n",
       "      <td>[دیوار, کوب, نمدی, تزیینی]</td>\n",
       "      <td>[مناسب, جهاز, عروس]</td>\n",
       "      <td>for-the-home</td>\n",
       "    </tr>\n",
       "    <tr>\n",
       "      <th>2</th>\n",
       "      <td>[تیکه, تمیز, سالم]</td>\n",
       "      <td>[کشوی, مخفی]</td>\n",
       "      <td>for-the-home</td>\n",
       "    </tr>\n",
       "    <tr>\n",
       "      <th>3</th>\n",
       "      <td>[مودم]</td>\n",
       "      <td>[سلام, مودم, سالم, وسایلش, کارم, نمیاد, مارکzy...</td>\n",
       "      <td>electronic-devices</td>\n",
       "    </tr>\n",
       "    <tr>\n",
       "      <th>4</th>\n",
       "      <td>[تعداد, 18, عددبوقلمون, قیمت]</td>\n",
       "      <td>[سلام, تعدای, بوقلمون, علت, جابه, فروش, رسد, ج...</td>\n",
       "      <td>leisure-hobbies</td>\n",
       "    </tr>\n",
       "    <tr>\n",
       "      <th>...</th>\n",
       "      <td>...</td>\n",
       "      <td>...</td>\n",
       "      <td>...</td>\n",
       "    </tr>\n",
       "    <tr>\n",
       "      <th>1795</th>\n",
       "      <td>[باسکول, 300, کیلویی]</td>\n",
       "      <td>[سالمه, سالمه, بشرط, قیمت, نوش, بازار, 600, تو...</td>\n",
       "      <td>businesses</td>\n",
       "    </tr>\n",
       "    <tr>\n",
       "      <th>1796</th>\n",
       "      <td>[میز, مدیریتی, کنفرانس]</td>\n",
       "      <td>[میز, مدیریتی, کنفرانس, تمیز, سالم, خط, خش]</td>\n",
       "      <td>businesses</td>\n",
       "    </tr>\n",
       "    <tr>\n",
       "      <th>1797</th>\n",
       "      <td>[باند, aiwa]</td>\n",
       "      <td>[سالم, اسپیکر]</td>\n",
       "      <td>electronic-devices</td>\n",
       "    </tr>\n",
       "    <tr>\n",
       "      <th>1798</th>\n",
       "      <td>[عروس, هلندی, مولد]</td>\n",
       "      <td>[عروس, هلندی, جفت, ویک, تک, جفتش, تخمه, سالم, ...</td>\n",
       "      <td>leisure-hobbies</td>\n",
       "    </tr>\n",
       "    <tr>\n",
       "      <th>1799</th>\n",
       "      <td>[ست, دستباف, دخترانه, یکساله, نو]</td>\n",
       "      <td>[ست, دخترانه, نیم, میشه, کاردست, نو, نو, سفارش...</td>\n",
       "      <td>personal</td>\n",
       "    </tr>\n",
       "  </tbody>\n",
       "</table>\n",
       "<p>1800 rows × 3 columns</p>\n",
       "</div>"
      ],
      "text/plain": [
       "                                  title  \\\n",
       "0                      [کیف, مجلسی, نو]   \n",
       "1            [دیوار, کوب, نمدی, تزیینی]   \n",
       "2                    [تیکه, تمیز, سالم]   \n",
       "3                                [مودم]   \n",
       "4         [تعداد, 18, عددبوقلمون, قیمت]   \n",
       "...                                 ...   \n",
       "1795              [باسکول, 300, کیلویی]   \n",
       "1796            [میز, مدیریتی, کنفرانس]   \n",
       "1797                       [باند, aiwa]   \n",
       "1798                [عروس, هلندی, مولد]   \n",
       "1799  [ست, دستباف, دخترانه, یکساله, نو]   \n",
       "\n",
       "                                            description          categories  \n",
       "0                                 [کیف, مجلسی, نوی, نو]            personal  \n",
       "1                                   [مناسب, جهاز, عروس]        for-the-home  \n",
       "2                                          [کشوی, مخفی]        for-the-home  \n",
       "3     [سلام, مودم, سالم, وسایلش, کارم, نمیاد, مارکzy...  electronic-devices  \n",
       "4     [سلام, تعدای, بوقلمون, علت, جابه, فروش, رسد, ج...     leisure-hobbies  \n",
       "...                                                 ...                 ...  \n",
       "1795  [سالمه, سالمه, بشرط, قیمت, نوش, بازار, 600, تو...          businesses  \n",
       "1796        [میز, مدیریتی, کنفرانس, تمیز, سالم, خط, خش]          businesses  \n",
       "1797                                     [سالم, اسپیکر]  electronic-devices  \n",
       "1798  [عروس, هلندی, جفت, ویک, تک, جفتش, تخمه, سالم, ...     leisure-hobbies  \n",
       "1799  [ست, دخترانه, نیم, میشه, کاردست, نو, نو, سفارش...            personal  \n",
       "\n",
       "[1800 rows x 3 columns]"
      ]
     },
     "execution_count": 9,
     "metadata": {},
     "output_type": "execute_result"
    }
   ],
   "source": [
    "data_test"
   ]
  },
  {
   "cell_type": "markdown",
   "id": "8f9dfde8",
   "metadata": {},
   "source": [
    "We've normalized and removed stop words for the \"title\" and \"description\" columns in the above section!"
   ]
  },
  {
   "cell_type": "code",
   "execution_count": 10,
   "id": "cc3ce203",
   "metadata": {},
   "outputs": [],
   "source": [
    "# stemmer = Stemmer()\n",
    "# lemmatizer = Lemmatizer()\n",
    "\n",
    "# for i in range(0, row_no):\n",
    "#     for j in range(0, col_no - 1):\n",
    "#         words = data_train.iat[i, j]\n",
    "#         new_words = []\n",
    "#         for word in words:\n",
    "#             stem_word = stemmer.stem(word) #less acuraccy\n",
    "#             lem_word = lemmatizer.lemmatize(word) #more accuracy\n",
    "#             new_words.append(lem_word)\n",
    "#         data_train.iat[i, j] = new_words"
   ]
  },
  {
   "cell_type": "markdown",
   "id": "75a1b27e",
   "metadata": {},
   "source": [
    "We can see that these methods can be damaging because sometimes they change the meaning. On the other hand they can be useful when they return the root of the word so we can categorize similar words. "
   ]
  },
  {
   "cell_type": "markdown",
   "id": "03da391d",
   "metadata": {},
   "source": [
    "<h3>$\\color{red}{Section \\hspace{0.2cm} Two:}$</h3>"
   ]
  },
  {
   "attachments": {
    "pic1.PNG": {
     "image/png": "[encoded data removed]"
    }
   },
   "cell_type": "markdown",
   "id": "7617bbbd",
   "metadata": {},
   "source": [
    "![pic1.PNG](attachment:pic1.PNG)"
   ]
  },
  {
   "cell_type": "markdown",
   "id": "63b38bfd",
   "metadata": {},
   "source": [
    "We want to calculate the probability of finding a specific class using a known word (i.e. P(c|x)). To do so, we can first calculate the likelihood of the words in a class, and then use this value alongside the prior probability (the event that leads to the posterior probability which we aim to calculate). Here the prior probability, is the chance of seeing a particular word. Similary P(c) is the chance of seeing a specific class type. Note that we can ignore P(c) because it's equal to $\\frac{1}{6}$ for all classes! Needless to say, P(x) is the chance of seeing the word 'x'."
   ]
  },
  {
   "cell_type": "code",
   "execution_count": 11,
   "id": "ce9ba6ee",
   "metadata": {},
   "outputs": [
    {
     "name": "stdout",
     "output_type": "stream",
     "text": [
      "# vehicles has 26559 words.\n",
      "# electronic-devices has 27908 words.\n",
      "# businesses has 24102 words.\n",
      "# for-the-home has 19746 words.\n",
      "# personal has 21788 words.\n",
      "# leisure-hobbies has 24781 words.\n"
     ]
    }
   ],
   "source": [
    "category = [\"vehicles\", \"electronic-devices\", \"businesses\", \"for-the-home\", \"personal\", \"leisure-hobbies\"]\n",
    "category_dict = [{}, {}, {}, {}, {}, {}]\n",
    "category_size = [0, 0, 0, 0, 0, 0]\n",
    "for c in range(0, 6):\n",
    "    for i in range(0, row_no):\n",
    "        for j in range(0, col_no - 1):\n",
    "            if (data_train.iat[i, col_no - 1] == category[c]):\n",
    "                words = data_train.iat[i, j]\n",
    "                for word in words:\n",
    "                    if word in category_dict[c].keys():\n",
    "                        category_dict[c][word] += 1\n",
    "                    else:\n",
    "                        category_dict[c].update({word: 1})\n",
    "                    category_size[c] += 1\n",
    "\n",
    "for i in range(0, 6):\n",
    "    print(\"#\", category[i], \"has\", category_size[i], \"words.\")"
   ]
  },
  {
   "cell_type": "markdown",
   "id": "5adb3a3d",
   "metadata": {},
   "source": [
    "We can see that our dataset is nearly balanced. We've now trained our data and are ready to estimate the divar_train.csv file using the naive bayes method mentioned before."
   ]
  },
  {
   "cell_type": "code",
   "execution_count": 12,
   "id": "e4e14cdd",
   "metadata": {},
   "outputs": [
    {
     "name": "stdout",
     "output_type": "stream",
     "text": [
      "The accuracy of Non Smoothing method is:  0.024444444444444446\n"
     ]
    }
   ],
   "source": [
    "import math #we use log to store the multiplication of probabilities\n",
    "tp = {\"vehicles\" : 0, \"electronic-devices\" : 0, \"businesses\" : 0, \"for-the-home\" : 0, \"personal\" : 0, \"leisure-hobbies\" : 0}\n",
    "fp = {\"vehicles\" : 0, \"electronic-devices\" : 0, \"businesses\" : 0, \"for-the-home\" : 0, \"personal\" : 0, \"leisure-hobbies\" : 0}\n",
    "fn = {\"vehicles\" : 0, \"electronic-devices\" : 0, \"businesses\" : 0, \"for-the-home\" : 0, \"personal\" : 0, \"leisure-hobbies\" : 0}\n",
    "y_pred = []\n",
    "correct_detected = 0\n",
    "for i in range(0, row_no_t):\n",
    "    max_category = [0, 0, 0, 0, 0, 0] \n",
    "    for c in range(0, 6):\n",
    "        for j in range(0, col_no_t - 1):\n",
    "            words = data_test.iat[i, j]\n",
    "            for word in words:\n",
    "                if word in category_dict[c].keys():\n",
    "                    #max_category[c] *= category_dict[c][word] / category_size[c]\n",
    "                    max_category[c] += math.log(category_dict[c][word])\n",
    "                    max_category[c] -= math.log(category_size[c])\n",
    "    maxx = max_category[0]\n",
    "    for j in range(0, 6):\n",
    "        maxx = max(maxx, max_category[j])\n",
    "    is_ok = False\n",
    "    max_c = category[0]\n",
    "    for j in range(0, 6):\n",
    "        if max_category[j] == maxx:\n",
    "            max_c = category[j]\n",
    "        if max_category[j] == maxx and data_test.iat[i, col_no_t - 1] == category[j]:\n",
    "            tp[data_test.iat[i, col_no_t - 1]] += 1\n",
    "            correct_detected += 1\n",
    "            is_ok = True\n",
    "            break\n",
    "    if not is_ok:\n",
    "        fp[max_c] += 1\n",
    "        fn[data_test.iat[i, col_no_t - 1]] += 1\n",
    "    y_pred.append(max_c)\n",
    "accuracy = correct_detected / row_no_t\n",
    "print(\"The accuracy of Non Smoothing method is: \", accuracy)"
   ]
  },
  {
   "cell_type": "markdown",
   "id": "8af8d318",
   "metadata": {},
   "source": [
    "<h3>$\\color{red}{Section \\hspace{0.2cm} Three:}$</h3>"
   ]
  },
  {
   "cell_type": "markdown",
   "id": "0bd1c099",
   "metadata": {},
   "source": [
    "It is a good practice to use n-grams because it helps define the word more accurately. Take \"در قابلمه\" for example. If we don't use n-grams (here a bigram would be sufficient), \"در\" would be considered as a stop word and get removed! We can prevent this from happening by using a bigram, and then the meaning would be complete.  "
   ]
  },
  {
   "cell_type": "markdown",
   "id": "e82c4f2b",
   "metadata": {},
   "source": [
    "<h3>$\\color{red}{Section \\hspace{0.2cm} Four:}$</h3>"
   ]
  },
  {
   "cell_type": "markdown",
   "id": "9fb02d52",
   "metadata": {},
   "source": [
    "In the naive bayes formula, we multiply the fraction by P(x|c). In doing so, the result would be 0 whenever x isn't in the original train file! This means that we would associate certain words with only a number of classes which generates bias. \n",
    "To fix this problem, we can use the additive smoothing method."
   ]
  },
  {
   "attachments": {
    "pic2.png": {
     "image/png": "[encoded data removed]"
    }
   },
   "cell_type": "markdown",
   "id": "e661c481",
   "metadata": {},
   "source": [
    "![pic2.png](attachment:pic2.png)"
   ]
  },
  {
   "attachments": {
    "pic3.png": {
     "image/png": "[encoded data removed]"
    }
   },
   "cell_type": "markdown",
   "id": "9936712f",
   "metadata": {},
   "source": [
    "![pic3.png](attachment:pic3.png)"
   ]
  },
  {
   "cell_type": "markdown",
   "id": "759a4667",
   "metadata": {},
   "source": [
    "As it is shown above, if we use the new P(w|c), we won't be generating any 0's, so we can be sure that we don't generate any unintentional bias."
   ]
  },
  {
   "cell_type": "markdown",
   "id": "4c67b6bd",
   "metadata": {},
   "source": [
    "<h3>$\\color{red}{Section \\hspace{0.2cm} Five:}$</h3>"
   ]
  },
  {
   "cell_type": "code",
   "execution_count": 13,
   "id": "1c81fd0b",
   "metadata": {},
   "outputs": [
    {
     "name": "stdout",
     "output_type": "stream",
     "text": [
      "The accuracy of Non Smoothing method is:  0.855\n"
     ]
    }
   ],
   "source": [
    "tp_adt = {\"vehicles\" : 0, \"electronic-devices\" : 0, \"businesses\" : 0, \"for-the-home\" : 0, \"personal\" : 0, \"leisure-hobbies\" : 0}\n",
    "fp_adt = {\"vehicles\" : 0, \"electronic-devices\" : 0, \"businesses\" : 0, \"for-the-home\" : 0, \"personal\" : 0, \"leisure-hobbies\" : 0}\n",
    "fn_adt = {\"vehicles\" : 0, \"electronic-devices\" : 0, \"businesses\" : 0, \"for-the-home\" : 0, \"personal\" : 0, \"leisure-hobbies\" : 0}\n",
    "false_answer = {}\n",
    "correct_detected = 0\n",
    "for i in range(0, row_no_t):\n",
    "    max_category = [0, 0, 0, 0, 0, 0]\n",
    "    for c in range(0, 6):\n",
    "        for j in range(0, col_no_t - 1):\n",
    "            words = data_test.iat[i, j]\n",
    "            for word in words:\n",
    "                count_w_c = 0\n",
    "                if word in category_dict[c].keys():\n",
    "                    count_w_c = category_dict[c][word]\n",
    "\n",
    "                max_category[c] += math.log(1 + count_w_c)\n",
    "                max_category[c] -= math.log(1 + len(category_dict[c]) + category_size[c])\n",
    "                \n",
    "    maxx = max_category[0]\n",
    "    is_ok = False\n",
    "    max_c = category[0]\n",
    "    for j in range(0, 6):\n",
    "        maxx = max(maxx, max_category[j])\n",
    "    for j in range(0, 6):\n",
    "        if max_category[j] == maxx:\n",
    "            max_c = category[j]\n",
    "        if max_category[j] == maxx and data_test.iat[i, col_no_t - 1] == category[j]:\n",
    "            tp_adt[data_test.iat[i, col_no_t - 1]] += 1\n",
    "            correct_detected += 1\n",
    "            is_ok = True\n",
    "            break\n",
    "    if not is_ok:\n",
    "        fp_adt[max_c] += 1\n",
    "        fn_adt[data_test.iat[i, col_no_t - 1]] += 1\n",
    "        false_answer.update({i : max_c})\n",
    "accuracy_d = correct_detected / row_no_t\n",
    "print(\"The accuracy of Non Smoothing method is: \", accuracy_d)"
   ]
  },
  {
   "cell_type": "markdown",
   "id": "6d8d1f97",
   "metadata": {},
   "source": [
    "We can see that by using the additive smoothing method, we've reached a more precise solution. This is because we handled some of the corner cases (when we encounter a new word in the test data)."
   ]
  },
  {
   "cell_type": "markdown",
   "id": "af3ac600",
   "metadata": {},
   "source": [
    "<h3>$\\color{red}{Section \\hspace{0.2cm} Six:}$</h3>"
   ]
  },
  {
   "cell_type": "code",
   "execution_count": 14,
   "id": "7c19ddaf",
   "metadata": {},
   "outputs": [
    {
     "data": {
      "image/png": "[encoded data removed]",
      "text/plain": [
       "<Figure size 432x288 with 1 Axes>"
      ]
     },
     "metadata": {
      "needs_background": "light"
     },
     "output_type": "display_data"
    }
   ],
   "source": [
    "from matplotlib import pyplot as plt\n",
    "from operator import itemgetter\n",
    "\n",
    "temp_dict = dict(sorted(category_dict[0].items(), key = itemgetter(1), reverse = True)[:6])\n",
    "keys = temp_dict.keys()\n",
    "values = temp_dict.values()\n",
    "plt.bar(keys, values)\n",
    "plt.xlabel(category[0])\n",
    "plt.ylabel('count')\n",
    "plt.show()"
   ]
  },
  {
   "cell_type": "code",
   "execution_count": 15,
   "id": "a9ba37ae",
   "metadata": {},
   "outputs": [
    {
     "data": {
      "image/png": "[encoded data removed]",
      "text/plain": [
       "<Figure size 432x288 with 1 Axes>"
      ]
     },
     "metadata": {
      "needs_background": "light"
     },
     "output_type": "display_data"
    }
   ],
   "source": [
    "temp_dict = dict(sorted(category_dict[1].items(), key = itemgetter(1), reverse = True)[:6])\n",
    "keys = temp_dict.keys()\n",
    "values = temp_dict.values()\n",
    "plt.bar(keys, values)\n",
    "plt.xlabel(category[1])\n",
    "plt.ylabel('count')\n",
    "plt.show()"
   ]
  },
  {
   "cell_type": "code",
   "execution_count": 16,
   "id": "5a663087",
   "metadata": {},
   "outputs": [
    {
     "data": {
      "image/png": "[encoded data removed]",
      "text/plain": [
       "<Figure size 432x288 with 1 Axes>"
      ]
     },
     "metadata": {
      "needs_background": "light"
     },
     "output_type": "display_data"
    }
   ],
   "source": [
    "temp_dict = dict(sorted(category_dict[2].items(), key = itemgetter(1), reverse = True)[:6])\n",
    "keys = temp_dict.keys()\n",
    "values = temp_dict.values()\n",
    "plt.bar(keys, values)\n",
    "plt.xlabel(category[2])\n",
    "plt.ylabel('count')\n",
    "plt.show()"
   ]
  },
  {
   "cell_type": "code",
   "execution_count": 17,
   "id": "e106feb0",
   "metadata": {},
   "outputs": [
    {
     "data": {
      "image/png": "[encoded data removed]",
      "text/plain": [
       "<Figure size 432x288 with 1 Axes>"
      ]
     },
     "metadata": {
      "needs_background": "light"
     },
     "output_type": "display_data"
    }
   ],
   "source": [
    "temp_dict = dict(sorted(category_dict[3].items(), key = itemgetter(1), reverse = True)[:6])\n",
    "keys = temp_dict.keys()\n",
    "values = temp_dict.values()\n",
    "plt.bar(keys, values)\n",
    "plt.xlabel(category[3])\n",
    "plt.ylabel('count')\n",
    "plt.show()"
   ]
  },
  {
   "cell_type": "code",
   "execution_count": 18,
   "id": "2e6f9bf8",
   "metadata": {},
   "outputs": [
    {
     "data": {
      "image/png": "[encoded data removed]",
      "text/plain": [
       "<Figure size 432x288 with 1 Axes>"
      ]
     },
     "metadata": {
      "needs_background": "light"
     },
     "output_type": "display_data"
    }
   ],
   "source": [
    "temp_dict = dict(sorted(category_dict[4].items(), key = itemgetter(1), reverse = True)[:6])\n",
    "keys = temp_dict.keys()\n",
    "values = temp_dict.values()\n",
    "plt.bar(keys, values)\n",
    "plt.xlabel(category[4])\n",
    "plt.ylabel('count')\n",
    "plt.show()"
   ]
  },
  {
   "cell_type": "code",
   "execution_count": 19,
   "id": "bd31d4d4",
   "metadata": {},
   "outputs": [
    {
     "data": {
      "image/png": "[encoded data removed]",
      "text/plain": [
       "<Figure size 432x288 with 1 Axes>"
      ]
     },
     "metadata": {
      "needs_background": "light"
     },
     "output_type": "display_data"
    }
   ],
   "source": [
    "temp_dict = dict(sorted(category_dict[5].items(), key = itemgetter(1), reverse = True)[:6])\n",
    "keys = temp_dict.keys()\n",
    "values = temp_dict.values()\n",
    "plt.bar(keys, values)\n",
    "plt.xlabel(category[5])\n",
    "plt.ylabel('count')\n",
    "plt.show()"
   ]
  },
  {
   "cell_type": "markdown",
   "id": "0404724a",
   "metadata": {},
   "source": [
    "The above words are the ones with the highest frequencies. Incidentally, we can delete these words because the chance of extracting usable data from them, is very low."
   ]
  },
  {
   "cell_type": "markdown",
   "id": "7598d280",
   "metadata": {},
   "source": [
    "<h3>$\\color{red}{Section \\hspace{0.2cm} Seven:}$</h3>"
   ]
  },
  {
   "cell_type": "markdown",
   "id": "c9c2c6ae",
   "metadata": {},
   "source": [
    "Consider the case where our classifier always picks a specific class like 'vehicle' for an answer. Now the Recall value for this specific class would be 100% which is extremely biased!\n",
    "On the other hand, if we don't have enough predictions, we won't be having reasonable wrong answers, so our Precision value would be extremely high near the beginning too!"
   ]
  },
  {
   "cell_type": "markdown",
   "id": "2db93306",
   "metadata": {},
   "source": [
    "<h3>$\\color{red}{Section \\hspace{0.2cm} Eight:}$</h3>"
   ]
  },
  {
   "cell_type": "markdown",
   "id": "fd40dc3f",
   "metadata": {},
   "source": [
    "F1 is the harmonic mean of Recall and Precision values. In reality if we try to improve Precision, the Recall falls and vice-versa. On ther other hand, to have a high F1, we need to both have a high Precision and Recall, so If we want to create a classification model with the optimal balance of Recall and Precision, we try to maximize the F1 score. In other words, F1 takes both false positives and false negatives into account, so we tend to use it where there's a big difference between Recall and Precision."
   ]
  },
  {
   "attachments": {
    "pic4.png": {
     "image/png": "[encoded data removed]"
    }
   },
   "cell_type": "markdown",
   "id": "b65b5530",
   "metadata": {},
   "source": [
    "![pic4.png](attachment:pic4.png)"
   ]
  },
  {
   "cell_type": "markdown",
   "id": "b0b073b7",
   "metadata": {},
   "source": [
    "Note that: TP = true positive, TN = true negative, FP = false positive, FN = false negative."
   ]
  },
  {
   "cell_type": "markdown",
   "id": "fd1e730e",
   "metadata": {},
   "source": [
    "<h3>$\\color{red}{Section \\hspace{0.2cm} Nine:}$</h3>"
   ]
  },
  {
   "cell_type": "markdown",
   "id": "44871823",
   "metadata": {},
   "source": [
    "Below are some definitions:\n",
    "\n",
    "**Macro-F1:** an arithmetic mean of the per-class F1-scores. This is regardless of the size of each class.\n",
    "\n",
    "**Weighted-F1:** a weighted summation of the F1-score of each class. This is in respect to the number of samples from each class.\n",
    "\n",
    "**Micro-F1:** the summation of micro-averaged precision and micro-averaged recall. We need to calculate FP for precision and FN for recall over all instances. We can conclude that micro-F1 = micro-precision = micro-recall."
   ]
  },
  {
   "cell_type": "markdown",
   "id": "3d913692",
   "metadata": {},
   "source": [
    "<h3>$\\color{red}{Section \\hspace{0.2cm} Ten:}$</h3>"
   ]
  },
  {
   "cell_type": "markdown",
   "id": "b0ccab2d",
   "metadata": {},
   "source": [
    "<h2>Without Additive Smoothing</h2>"
   ]
  },
  {
   "cell_type": "code",
   "execution_count": 20,
   "id": "3ac42ef4",
   "metadata": {},
   "outputs": [
    {
     "name": "stdout",
     "output_type": "stream",
     "text": [
      "Category vehicles\n",
      "#TP:  5\n",
      "#FP:  393\n",
      "#FN:  295\n",
      "Precision: 0.01256281407035176\n",
      "Recall: 0.016666666666666666\n",
      "F1: 0.014326647564469913\n",
      "\n",
      "Category electronic-devices\n",
      "#TP:  7\n",
      "#FP:  388\n",
      "#FN:  293\n",
      "Precision: 0.017721518987341773\n",
      "Recall: 0.023333333333333334\n",
      "F1: 0.02014388489208633\n",
      "\n",
      "Category businesses\n",
      "#TP:  8\n",
      "#FP:  99\n",
      "#FN:  292\n",
      "Precision: 0.07476635514018691\n",
      "Recall: 0.02666666666666667\n",
      "F1: 0.03931203931203931\n",
      "\n",
      "Category for-the-home\n",
      "#TP:  10\n",
      "#FP:  402\n",
      "#FN:  290\n",
      "Precision: 0.024271844660194174\n",
      "Recall: 0.03333333333333333\n",
      "F1: 0.028089887640449437\n",
      "\n",
      "Category personal\n",
      "#TP:  9\n",
      "#FP:  336\n",
      "#FN:  291\n",
      "Precision: 0.02608695652173913\n",
      "Recall: 0.03\n",
      "F1: 0.027906976744186043\n",
      "\n",
      "Category leisure-hobbies\n",
      "#TP:  5\n",
      "#FP:  138\n",
      "#FN:  295\n",
      "Precision: 0.03496503496503497\n",
      "Recall: 0.016666666666666666\n",
      "F1: 0.02257336343115124\n",
      "\n",
      "Macro Avg: 0.025392133264063713\n",
      "Micro Avg: 0.024444444444444446\n",
      "Weighted Avg: 0.024932127726801246\n"
     ]
    }
   ],
   "source": [
    "sum_of_f = 0\n",
    "weighted_sum = 0\n",
    "overall_size = 0\n",
    "micro_precision_numerator = 0\n",
    "micro_precision_denominator = 0\n",
    "micro_recall_denominator = 0\n",
    "for c in range(0, 6):\n",
    "    i = category[c]\n",
    "    precision = tp[i] / (tp[i] + fp[i])\n",
    "    recall = tp[i] / (tp[i] + fn[i])\n",
    "    f1 = (2 * precision * recall) / (precision + recall)\n",
    "    \n",
    "    print(\"Category\", i)\n",
    "    print(\"#TP: \", tp[i])\n",
    "    print(\"#FP: \", fp[i])\n",
    "    print(\"#FN: \", fn[i])\n",
    "    print(\"Precision:\", precision)\n",
    "    print(\"Recall:\", recall)\n",
    "    print(\"F1:\", f1)\n",
    "    print()\n",
    "    sum_of_f += f1\n",
    "    weighted_sum += f1 * category_size[c]\n",
    "    overall_size += category_size[c]\n",
    "    micro_precision_numerator += tp[i]\n",
    "    micro_precision_denominator += tp[i] + fp[i]\n",
    "    micro_recall_denominator += tp[i] + fn[i]\n",
    "prec = micro_precision_numerator / micro_precision_denominator\n",
    "reca = micro_precision_numerator / micro_recall_denominator\n",
    "print(\"Macro Avg:\", sum_of_f / 6)\n",
    "print(\"Micro Avg:\", 2 * prec * reca / (prec + reca))\n",
    "print(\"Weighted Avg:\", weighted_sum / overall_size)\n"
   ]
  },
  {
   "cell_type": "code",
   "execution_count": 21,
   "id": "bddc3c3c",
   "metadata": {},
   "outputs": [],
   "source": [
    "# from sklearn.metrics import classification_report\n",
    "# y_true = data_test['categories']\n",
    "\n",
    "# print(classification_report(y_true, y_pred, target_names=[\"vehicles\", \"electronic-devices\", \"businesses\", \"for-the-home\", \"personal\", \"leisure-hobbies\"]))"
   ]
  },
  {
   "cell_type": "markdown",
   "id": "a9724140",
   "metadata": {},
   "source": [
    "<h2>With Additive Smoothing</h2>"
   ]
  },
  {
   "cell_type": "code",
   "execution_count": 22,
   "id": "88866a6f",
   "metadata": {},
   "outputs": [
    {
     "name": "stdout",
     "output_type": "stream",
     "text": [
      "Category vehicles\n",
      "#TP:  273\n",
      "#FP:  18\n",
      "#FN:  27\n",
      "Precision: 0.9381443298969072\n",
      "Recall: 0.91\n",
      "F1: 0.9238578680203046\n",
      "\n",
      "Category electronic-devices\n",
      "#TP:  265\n",
      "#FP:  21\n",
      "#FN:  35\n",
      "Precision: 0.9265734265734266\n",
      "Recall: 0.8833333333333333\n",
      "F1: 0.9044368600682593\n",
      "\n",
      "Category businesses\n",
      "#TP:  215\n",
      "#FP:  55\n",
      "#FN:  85\n",
      "Precision: 0.7962962962962963\n",
      "Recall: 0.7166666666666667\n",
      "F1: 0.7543859649122806\n",
      "\n",
      "Category for-the-home\n",
      "#TP:  269\n",
      "#FP:  105\n",
      "#FN:  31\n",
      "Precision: 0.7192513368983957\n",
      "Recall: 0.8966666666666666\n",
      "F1: 0.798219584569733\n",
      "\n",
      "Category personal\n",
      "#TP:  269\n",
      "#FP:  46\n",
      "#FN:  31\n",
      "Precision: 0.8539682539682539\n",
      "Recall: 0.8966666666666666\n",
      "F1: 0.8747967479674796\n",
      "\n",
      "Category leisure-hobbies\n",
      "#TP:  248\n",
      "#FP:  16\n",
      "#FN:  52\n",
      "Precision: 0.9393939393939394\n",
      "Recall: 0.8266666666666667\n",
      "F1: 0.8794326241134751\n",
      "\n",
      "Macro Avg: 0.8558549416085887\n",
      "Micro Avg: 0.855\n",
      "Weighted Avg: 0.8598251763730809\n"
     ]
    }
   ],
   "source": [
    "sum_of_f = 0\n",
    "weighted_sum = 0\n",
    "overall_size = 0\n",
    "micro_precision_numerator = 0\n",
    "micro_precision_denominator = 0\n",
    "micro_recall_denominator = 0\n",
    "\n",
    "for c in range(0, 6):\n",
    "    i = category[c]\n",
    "    precision = tp_adt[i] / (tp_adt[i] + fp_adt[i])\n",
    "    recall = tp_adt[i] / (tp_adt[i] + fn_adt[i])\n",
    "    f1 = (2 * precision * recall) / (precision + recall)\n",
    "    \n",
    "    print(\"Category\", i)\n",
    "    print(\"#TP: \", tp_adt[i])\n",
    "    print(\"#FP: \", fp_adt[i])\n",
    "    print(\"#FN: \", fn_adt[i])\n",
    "    print(\"Precision:\", precision)\n",
    "    print(\"Recall:\", recall)\n",
    "    print(\"F1:\", f1)\n",
    "    print()\n",
    "    sum_of_f += f1\n",
    "    weighted_sum += f1 * category_size[c]\n",
    "    overall_size += category_size[c]\n",
    "    micro_precision_numerator += tp_adt[i]\n",
    "    micro_precision_denominator += tp_adt[i] + fp_adt[i]\n",
    "    micro_recall_denominator += tp_adt[i] + fn_adt[i]\n",
    "prec = micro_precision_numerator / micro_precision_denominator\n",
    "reca = micro_precision_numerator / micro_recall_denominator\n",
    "print(\"Macro Avg:\", sum_of_f / 6)\n",
    "print(\"Micro Avg:\", 2 * prec * reca / (prec + reca))\n",
    "print(\"Weighted Avg:\", weighted_sum / overall_size)\n"
   ]
  },
  {
   "cell_type": "markdown",
   "id": "4c6ae4a3",
   "metadata": {},
   "source": [
    "<h3>$\\color{red}{Section \\hspace{0.2cm} Eleven:}$</h3>"
   ]
  },
  {
   "cell_type": "markdown",
   "id": "5d9dc8eb",
   "metadata": {},
   "source": [
    "We can see that F1 has improved significantly and is nearly equal to $\\frac{9}{10}.$ We expected such result because we'd eliminated some corner cases."
   ]
  },
  {
   "cell_type": "markdown",
   "id": "57a31323",
   "metadata": {},
   "source": [
    "<h3>$\\color{red}{Section \\hspace{0.2cm} Twelve:}$</h3>"
   ]
  },
  {
   "cell_type": "code",
   "execution_count": 23,
   "id": "17bff51b",
   "metadata": {},
   "outputs": [
    {
     "name": "stdout",
     "output_type": "stream",
     "text": [
      "One false answer is on row no.6, while the correct answer is leisure-hobbies, we've estimated businesses\n",
      "\n",
      "One false answer is on row no.16, while the correct answer is leisure-hobbies, we've estimated for-the-home\n",
      "\n",
      "One false answer is on row no.26, while the correct answer is vehicles, we've estimated for-the-home\n",
      "\n",
      "One false answer is on row no.28, while the correct answer is for-the-home, we've estimated businesses\n",
      "\n",
      "One false answer is on row no.37, while the correct answer is businesses, we've estimated for-the-home\n",
      "\n"
     ]
    }
   ],
   "source": [
    "i = j = 0\n",
    "while i < row_no_t and j < 5:\n",
    "    if i in false_answer:\n",
    "        print(\"One false answer is on row no.\", i, \", while the correct answer is \", data_test.iat[i, col_no_t - 1], \", we've estimated \", false_answer[i], \"\\n\", sep='')\n",
    "        j += 1\n",
    "    i += 1"
   ]
  },
  {
   "cell_type": "markdown",
   "id": "06362acd",
   "metadata": {},
   "source": [
    "We can check to see why we've generated a wrong answer. Take row 28 for example:"
   ]
  },
  {
   "cell_type": "code",
   "execution_count": 24,
   "id": "3eae881d",
   "metadata": {},
   "outputs": [
    {
     "name": "stdout",
     "output_type": "stream",
     "text": [
      "['موتور', 'تزیینی']\n",
      "['جنس', 'اهن', 'کار', 'دست', 'عرضه', 'تکی']\n"
     ]
    }
   ],
   "source": [
    "print(data_test.iat[28, 0])\n",
    "print(data_test.iat[28, 1])"
   ]
  },
  {
   "cell_type": "markdown",
   "id": "7c11c735",
   "metadata": {},
   "source": [
    "You can see that because of the words like موتور, کار, اهن and عرضه we've guessed categorized this advertise in businesses. We can reduce such errors if we ask the customers to write in a more detailed fashion. We can only organize the data so far, so we can't expect an error proof answer, especially when we're dealing with such short ones!\n",
    "Consider row 37:"
   ]
  },
  {
   "cell_type": "code",
   "execution_count": 25,
   "id": "7ca0ab82",
   "metadata": {},
   "outputs": [
    {
     "name": "stdout",
     "output_type": "stream",
     "text": [
      "['90', 'عدد', 'بشقاب', 'پیتزا', 'تک', 'نفره', 'قیمت', 'هرعدد', '4000']\n",
      "['بشقاب', 'پیتزا', 'نفره', 'عددی', '4000', 'باتشکراز', 'دیوار']\n"
     ]
    }
   ],
   "source": [
    "print(data_test.iat[37, 0])\n",
    "print(data_test.iat[37, 1])"
   ]
  },
  {
   "cell_type": "markdown",
   "id": "88725faf",
   "metadata": {},
   "source": [
    "Again, we can't exactly decide between businesses or for-the-home. This advertise is even kind of confusing because it is only natural to think of for-the-home items when seeing بشقاب or پیتزا!"
   ]
  },
  {
   "cell_type": "code",
   "execution_count": null,
   "id": "dcc3c2e9",
   "metadata": {},
   "outputs": [],
   "source": []
  }
 ],
 "metadata": {
  "kernelspec": {
   "display_name": "Python 3 (ipykernel)",
   "language": "python",
   "name": "python3"
  },
  "language_info": {
   "codemirror_mode": {
    "name": "ipython",
    "version": 3
   },
   "file_extension": ".py",
   "mimetype": "text/x-python",
   "name": "python",
   "nbconvert_exporter": "python",
   "pygments_lexer": "ipython3",
   "version": "3.9.6"
  }
 },
 "nbformat": 4,
 "nbformat_minor": 5
}
